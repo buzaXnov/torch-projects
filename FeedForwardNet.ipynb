{
 "cells": [
  {
   "cell_type": "code",
   "execution_count": 1,
   "id": "630a756a",
   "metadata": {},
   "outputs": [],
   "source": [
    "import torch\n",
    "import torch.nn as nn\n",
    "# from torch.utils.data import DataLoader\n",
    "import torchvision\n",
    "import torchvision.transforms as transforms\n",
    "import matplotlib.pyplot as plt"
   ]
  },
  {
   "cell_type": "code",
   "execution_count": 2,
   "id": "f4fae4d2",
   "metadata": {},
   "outputs": [
    {
     "name": "stderr",
     "output_type": "stream",
     "text": [
      "/home/boot/.local/lib/python3.10/site-packages/torch/cuda/__init__.py:88: UserWarning: HIP initialization: Unexpected error from hipGetDeviceCount(). Did you run some cuda functions before calling NumHipDevices() that might have already set an error? Error 101: hipErrorInvalidDevice (Triggered internally at ../c10/hip/HIPFunctions.cpp:110.)\n",
      "  return torch._C._cuda_getDeviceCount() > 0\n"
     ]
    }
   ],
   "source": [
    "# device config\n",
    "device = torch.device(\"cuda\" if torch.cuda.is_available() else \"cpu\")"
   ]
  },
  {
   "cell_type": "code",
   "execution_count": 6,
   "id": "e16cdd88",
   "metadata": {},
   "outputs": [],
   "source": [
    "# hyperparameters\n",
    "input_size = 28 * 28\n",
    "hidden_size = 100\n",
    "num_of_classes = 10   # MNIST digits\n",
    "num_epochs = 2\n",
    "batch_size = 32\n",
    "learning_rate = 0.001"
   ]
  },
  {
   "cell_type": "code",
   "execution_count": 7,
   "id": "d7baa1bc",
   "metadata": {},
   "outputs": [],
   "source": [
    "# MNIST\n",
    "train_dataset = torchvision.datasets.MNIST(root=\"./data/\", train=True, transform=transforms.ToTensor(), download=True)\n",
    "test_dataset = torchvision.datasets.MNIST(root=\"./data/\", train=False, transform=transforms.ToTensor(), download=False)\n",
    "\n",
    "# Dataloader\n",
    "train_loader = torch.utils.data.DataLoader(dataset=train_dataset, batch_size=batch_size, shuffle=True)\n",
    "test_loader = torch.utils.data.DataLoader(dataset=test_dataset, batch_size=batch_size, shuffle=False)"
   ]
  },
  {
   "cell_type": "code",
   "execution_count": 16,
   "id": "6e4ecb79",
   "metadata": {},
   "outputs": [
    {
     "name": "stdout",
     "output_type": "stream",
     "text": [
      "torch.Size([32, 1, 28, 28]) torch.Size([32])\n"
     ]
    }
   ],
   "source": [
    "examples = iter(train_loader)\n",
    "samples, labels = next(examples)\n",
    "print(samples.shape, labels.shape)"
   ]
  },
  {
   "cell_type": "code",
   "execution_count": 26,
   "id": "ea262d6d",
   "metadata": {},
   "outputs": [
    {
     "data": {
      "image/png": "[encoded data removed]",
      "text/plain": [
       "<Figure size 432x288 with 9 Axes>"
      ]
     },
     "metadata": {
      "needs_background": "light"
     },
     "output_type": "display_data"
    }
   ],
   "source": [
    "%matplotlib inline\n",
    "for i in range(9):\n",
    "    plt.subplot(3, 3, i+1)\n",
    "    plt.imshow(samples[i][0], cmap='gray')\n",
    "plt.show()"
   ]
  },
  {
   "cell_type": "code",
   "execution_count": 27,
   "id": "bec23c9f",
   "metadata": {},
   "outputs": [],
   "source": [
    "# Design model\n",
    "class NeuralNet(nn.Module):\n",
    "    def __init__(self, input_size, hidden_size, num_classes):\n",
    "        super(NeuralNet, self,).__init__()\n",
    "        \n",
    "        self.layer1 = nn.Linear(in_features=input_size, out_features=hidden_size)\n",
    "        self.activation = nn.LeakyReLU()\n",
    "        self.layer2 = nn.Linear(in_features=hidden_size, out_features=num_classes)\n",
    "        # self.softmax # the loss function CrossEntropyLoss (will take care of this problem)\n",
    "        \n",
    "    def forward(self, x):\n",
    "        out = torch.nn.functional.leaky_relu(self.layer1(x))\n",
    "        return self.layer2(out)\n",
    "\n",
    "\n",
    "model = NeuralNet(input_size=input_size, hidden_size=hidden_size, num_classes=num_of_classes)"
   ]
  },
  {
   "cell_type": "code",
   "execution_count": 30,
   "id": "7000a57e",
   "metadata": {},
   "outputs": [],
   "source": [
    "# 2) loss and optimizer\n",
    "loss = nn.CrossEntropyLoss()   # applies Softmax for us!\n",
    "optimizer = torch.optim.Adam(params=model.parameters(), lr=learning_rate)"
   ]
  },
  {
   "cell_type": "code",
   "execution_count": 34,
   "id": "e986725c",
   "metadata": {},
   "outputs": [
    {
     "name": "stdout",
     "output_type": "stream",
     "text": [
      "Epoch 0/2: step 100/1875: loss: 2.07127\n",
      "Epoch 0/2: step 200/1875: loss: 2.09655\n",
      "Epoch 0/2: step 300/1875: loss: 2.06341\n",
      "Epoch 0/2: step 400/1875: loss: 2.02267\n",
      "Epoch 0/2: step 500/1875: loss: 2.07488\n",
      "Epoch 0/2: step 600/1875: loss: 2.04592\n",
      "Epoch 0/2: step 700/1875: loss: 2.05983\n",
      "Epoch 0/2: step 800/1875: loss: 2.08697\n",
      "Epoch 0/2: step 900/1875: loss: 2.05789\n",
      "Epoch 0/2: step 1000/1875: loss: 2.03272\n",
      "Epoch 0/2: step 1100/1875: loss: 2.05634\n",
      "Epoch 0/2: step 1200/1875: loss: 2.02987\n",
      "Epoch 0/2: step 1300/1875: loss: 2.07418\n",
      "Epoch 0/2: step 1400/1875: loss: 2.06045\n",
      "Epoch 0/2: step 1500/1875: loss: 2.04576\n",
      "Epoch 0/2: step 1600/1875: loss: 2.03179\n",
      "Epoch 0/2: step 1700/1875: loss: 2.06226\n",
      "Epoch 0/2: step 1800/1875: loss: 2.04562\n",
      "Epoch 1/2: step 100/1875: loss: 2.05318\n",
      "Epoch 1/2: step 200/1875: loss: 2.04853\n",
      "Epoch 1/2: step 300/1875: loss: 2.04435\n",
      "Epoch 1/2: step 400/1875: loss: 2.04639\n",
      "Epoch 1/2: step 500/1875: loss: 2.03842\n",
      "Epoch 1/2: step 600/1875: loss: 2.04236\n",
      "Epoch 1/2: step 700/1875: loss: 2.03363\n",
      "Epoch 1/2: step 800/1875: loss: 2.04207\n",
      "Epoch 1/2: step 900/1875: loss: 2.04830\n",
      "Epoch 1/2: step 1000/1875: loss: 2.04829\n",
      "Epoch 1/2: step 1100/1875: loss: 2.04910\n",
      "Epoch 1/2: step 1200/1875: loss: 2.04800\n",
      "Epoch 1/2: step 1300/1875: loss: 2.03579\n",
      "Epoch 1/2: step 1400/1875: loss: 2.06140\n",
      "Epoch 1/2: step 1500/1875: loss: 2.04701\n",
      "Epoch 1/2: step 1600/1875: loss: 2.04217\n",
      "Epoch 1/2: step 1700/1875: loss: 2.05876\n",
      "Epoch 1/2: step 1800/1875: loss: 2.04538\n"
     ]
    }
   ],
   "source": [
    "# 3) training loop\n",
    "total_steps = len(train_loader)\n",
    "for epoch in range(num_epochs):\n",
    "    for i, (images, label) in enumerate(train_loader):\n",
    "        # reshaping and putting the images to the device (gpu) if available\n",
    "        images = torch.reshape(images, (-1, 28*28)).to(device)\n",
    "        labels = labels.to(device)\n",
    "        # forward pass\n",
    "        outputs = model(images)\n",
    "        # calculate loss\n",
    "        L = loss(outputs, labels)\n",
    "        # backpropagation\n",
    "        optimizer.zero_grad()\n",
    "        L.backward()\n",
    "        optimizer.step()\n",
    "        \n",
    "        if not (i+1)%100:\n",
    "            print(f\"Epoch {epoch}/{num_epochs}: step {i+1}/{total_steps}: loss: {L.item():.5f}\")\n"
   ]
  },
  {
   "cell_type": "code",
   "execution_count": null,
   "id": "4707a5b4",
   "metadata": {},
   "outputs": [],
   "source": [
    "# evaluating the model\n",
    "with torch.no_grad():\n",
    "    n_correct = 0\n",
    "    n_samples = 0\n",
    "    for images, labels in test_loader:\n",
    "        images = images.reshape(-1, 28*28).to(device)\n",
    "        labels = labels.to(device)\n",
    "        outputs = model(images)\n",
    "        \n",
    "        # value, index\n",
    "        _, predictions = torch.max(outputs, 1)\n",
    "        n_samples += labels.shape[0]\n",
    "        n_correct += (predictions == labels).sum().item()\n",
    "\n",
    "        "
   ]
  }
 ],
 "metadata": {
  "kernelspec": {
   "display_name": "Python 3 (ipykernel)",
   "language": "python",
   "name": "python3"
  },
  "language_info": {
   "codemirror_mode": {
    "name": "ipython",
    "version": 3
   },
   "file_extension": ".py",
   "mimetype": "text/x-python",
   "name": "python",
   "nbconvert_exporter": "python",
   "pygments_lexer": "ipython3",
   "version": "3.10.6"
  }
 },
 "nbformat": 4,
 "nbformat_minor": 5
}
